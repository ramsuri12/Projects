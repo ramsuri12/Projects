{
 "cells": [
  {
   "cell_type": "markdown",
   "metadata": {
    "id": "1I4QmCeLt1fh"
   },
   "source": [
    "## Importing Dataset"
   ]
  },
  {
   "cell_type": "code",
   "execution_count": null,
   "metadata": {
    "colab": {
     "base_uri": "https://localhost:8080/"
    },
    "id": "O4YgZapEqNka",
    "outputId": "76afad79-7815-4655-a0e3-69ac7d2d8519"
   },
   "outputs": [
    {
     "name": "stdout",
     "output_type": "stream",
     "text": [
      "Mounted at /content/drive\n"
     ]
    }
   ],
   "source": [
    "from google.colab import drive\n",
    "drive.mount('/content/drive')"
   ]
  },
  {
   "cell_type": "code",
   "execution_count": null,
   "metadata": {
    "id": "ft6iiwCUqhvX"
   },
   "outputs": [],
   "source": [
    "!unzip \"/content/drive/MyDrive/ML Datasets/Fire Detection/Training Dataset.zip\""
   ]
  },
  {
   "cell_type": "code",
   "execution_count": null,
   "metadata": {
    "id": "osmMfhYmrDp_"
   },
   "outputs": [],
   "source": [
    "!unzip \"/content/drive/MyDrive/ML Datasets/Fire Detection/Test Dataset.zip\""
   ]
  },
  {
   "cell_type": "markdown",
   "metadata": {
    "id": "xmCOf47dtrRN"
   },
   "source": [
    "## Preprocessing"
   ]
  },
  {
   "cell_type": "code",
   "execution_count": null,
   "metadata": {
    "id": "pEeUsxLGEuJC"
   },
   "outputs": [],
   "source": [
    "import tensorflow as tf\n",
    "tf.__version__\n",
    "from matplotlib import pyplot as plt\n",
    "import math"
   ]
  },
  {
   "cell_type": "markdown",
   "metadata": {
    "id": "KR6YdOmgttim"
   },
   "source": [
    "Training Set"
   ]
  },
  {
   "cell_type": "code",
   "execution_count": null,
   "metadata": {
    "id": "0L3YQha2s1q2"
   },
   "outputs": [],
   "source": [
    "training_iamge_data_generator = tf.keras.preprocessing.image.ImageDataGenerator(\n",
    "    rescale=1./255, shear_range=0.2, zoom_range=0.2, horizontal_flip=True)"
   ]
  },
  {
   "cell_type": "code",
   "execution_count": null,
   "metadata": {
    "colab": {
     "base_uri": "https://localhost:8080/"
    },
    "id": "1sm9s_X_s5yv",
    "outputId": "4100ee49-4394-4f69-8638-b9a944785293"
   },
   "outputs": [
    {
     "name": "stdout",
     "output_type": "stream",
     "text": [
      "Found 2425 images belonging to 2 classes.\n"
     ]
    }
   ],
   "source": [
    "training_dataset = training_iamge_data_generator.flow_from_directory(\n",
    "    '/content/Training Dataset', \n",
    "    target_size=(224, 224), batch_size=32, class_mode='binary')"
   ]
  },
  {
   "cell_type": "markdown",
   "metadata": {
    "id": "D08K40I7txjS"
   },
   "source": [
    "Test Set"
   ]
  },
  {
   "cell_type": "code",
   "execution_count": null,
   "metadata": {
    "id": "rXSu36oStZjb"
   },
   "outputs": [],
   "source": [
    "test_image_data_generator = tf.keras.preprocessing.image.ImageDataGenerator(\n",
    "    rescale=1./255, shear_range=0.2, zoom_range=0.2, horizontal_flip=True)"
   ]
  },
  {
   "cell_type": "code",
   "execution_count": null,
   "metadata": {
    "colab": {
     "base_uri": "https://localhost:8080/"
    },
    "id": "iC99X80btbUi",
    "outputId": "3180042c-8d09-4362-ff9d-6d2d0317473a"
   },
   "outputs": [
    {
     "name": "stdout",
     "output_type": "stream",
     "text": [
      "Found 651 images belonging to 2 classes.\n"
     ]
    }
   ],
   "source": [
    "test_dataset = test_image_data_generator.flow_from_directory(\n",
    "    '/content/Test Dataset 2', \n",
    "    target_size=(224, 224), batch_size=32, class_mode='binary')"
   ]
  },
  {
   "cell_type": "markdown",
   "metadata": {
    "id": "pz2F6SQ_t563"
   },
   "source": [
    "## Building CNN"
   ]
  },
  {
   "cell_type": "code",
   "execution_count": null,
   "metadata": {
    "id": "WLKkf-y89iiQ"
   },
   "outputs": [],
   "source": [
    "kernel_init = tf.keras.initializers.glorot_uniform()\n",
    "bias_init = tf.keras.initializers.Constant(value=0.2)"
   ]
  },
  {
   "cell_type": "code",
   "execution_count": null,
   "metadata": {
    "id": "hLeYdsn11JZV"
   },
   "outputs": [],
   "source": [
    "def get_inception_module(x,\n",
    "                     filters_1x1,\n",
    "                     filters_3x3_reduce,\n",
    "                     filters_3x3,\n",
    "                     filters_5x5_reduce,\n",
    "                     filters_5x5,\n",
    "                     filters_pool_conv,\n",
    "                     name=None):\n",
    "    \n",
    "    conv_1x1 = tf.keras.layers.Conv2D(\n",
    "        filters=filters_1x1, kernel_size=(1, 1), padding='same', activation='relu', \n",
    "        kernel_initializer=kernel_init, bias_initializer=bias_init)(x)\n",
    "    \n",
    "    conv_3x3_reduce = tf.keras.layers.Conv2D(\n",
    "        filters=filters_3x3_reduce, kernel_size=(1, 1), padding='same', activation='relu', \n",
    "        kernel_initializer=kernel_init, bias_initializer=bias_init)(x)\n",
    "    conv_3x3 = tf.keras.layers.Conv2D(\n",
    "        filters=filters_3x3, kernel_size=(3, 3), padding='same', activation='relu', \n",
    "        kernel_initializer=kernel_init, bias_initializer=bias_init)(conv_3x3_reduce)\n",
    "\n",
    "    conv_5x5_redude = tf.keras.layers.Conv2D(\n",
    "        filters=filters_5x5_reduce, kernel_size=(1, 1), padding='same', activation='relu', \n",
    "        kernel_initializer=kernel_init, bias_initializer=bias_init)(x)\n",
    "    conv_5x5 = tf.keras.layers.Conv2D(\n",
    "        filters=filters_5x5, kernel_size=(5, 5), padding='same', activation='relu', \n",
    "        kernel_initializer=kernel_init, bias_initializer=bias_init)(conv_5x5_redude)\n",
    "\n",
    "    pool = tf.keras.layers.MaxPool2D(\n",
    "        pool_size=(3, 3), strides=(1, 1), padding='same')(x)\n",
    "    pool_conv = tf.keras.layers.Conv2D(\n",
    "        filters=filters_pool_conv, kernel_size=(1, 1), padding='same', activation='relu', \n",
    "        kernel_initializer=kernel_init, bias_initializer=bias_init)(pool)\n",
    "\n",
    "    output = tf.keras.layers.concatenate(\n",
    "        [conv_1x1, conv_3x3, conv_5x5, pool_conv], axis=3, name=name)\n",
    "    \n",
    "    return output"
   ]
  },
  {
   "cell_type": "code",
   "execution_count": null,
   "metadata": {
    "id": "ciAbif3rt8j0"
   },
   "outputs": [],
   "source": [
    "input = tf.keras.Input(shape=(224, 224, 3))"
   ]
  },
  {
   "cell_type": "code",
   "execution_count": null,
   "metadata": {
    "id": "qmL0g34Yyv97"
   },
   "outputs": [],
   "source": [
    "conv_1_7x7_2 = tf.keras.layers.Conv2D(filters=64, kernel_size=(7, 7), padding='same', \n",
    "    strides=(2, 2), activation='relu', name='conv_1_7x7_2', kernel_initializer=kernel_init, \n",
    "    bias_initializer=bias_init)(input)\n",
    "\n",
    "max_pool_1_3x3_2 = tf.keras.layers.MaxPool2D(\n",
    "    pool_size=(3, 3), padding='same', strides=(2, 2), name='max_pool_1_3x3_2')(conv_1_7x7_2)\n",
    "\n",
    "conv_2a_3x3_1 = tf.keras.layers.Conv2D(\n",
    "    filters=64, kernel_size=(1, 1), padding='same', strides=(1, 1), activation='relu', \n",
    "    name='conv_2a_3x3_1')(max_pool_1_3x3_2)\n",
    "\n",
    "conv_2b_3x3_1 = tf.keras.layers.Conv2D(\n",
    "    filters=192, kernel_size=(3, 3), padding='same', strides=(1, 1), activation='relu', \n",
    "    name='conv_2b_3x3_1')(conv_2a_3x3_1)\n",
    "\n",
    "max_pool_2_3x3_2 = tf.keras.layers.MaxPool2D(\n",
    "    pool_size=(3, 3), padding='same', strides=(2, 2), name='max_pool_2_3x3_2')(conv_2b_3x3_1)\n",
    "\n",
    "inception_3a = get_inception_module(max_pool_2_3x3_2,\n",
    "                     filters_1x1=64,\n",
    "                     filters_3x3_reduce=96,\n",
    "                     filters_3x3=128,\n",
    "                     filters_5x5_reduce=16,\n",
    "                     filters_5x5=32,\n",
    "                     filters_pool_conv=32,\n",
    "                     name='inception_3a')\n",
    "\n",
    "inception_3b = get_inception_module(inception_3a,\n",
    "                     filters_1x1=128,\n",
    "                     filters_3x3_reduce=128,\n",
    "                     filters_3x3=192,\n",
    "                     filters_5x5_reduce=32,\n",
    "                     filters_5x5=96,\n",
    "                     filters_pool_conv=64,\n",
    "                     name='inception_3b')\n",
    "\n",
    "max_pool_3_3x3_2 = tf.keras.layers.MaxPool2D(pool_size=(3, 3), padding='same', strides=(2, 2), name='max_pool_3_3x3_2')(inception_3b)\n",
    "\n",
    "inception_4a = get_inception_module(max_pool_3_3x3_2,\n",
    "                     filters_1x1=192,\n",
    "                     filters_3x3_reduce=96,\n",
    "                     filters_3x3=208,\n",
    "                     filters_5x5_reduce=16,\n",
    "                     filters_5x5=48,\n",
    "                     filters_pool_conv=64,\n",
    "                     name='inception_4a')\n",
    "\n",
    "avg_pool_5_3x3_1 = tf.keras.layers.GlobalAveragePooling2D(name='avg_pool_5_3x3_1')(inception_4a)\n",
    "\n",
    "dropout = tf.keras.layers.Dropout(0.4)(avg_pool_5_3x3_1)\n",
    "\n",
    "output = tf.keras.layers.Dense(1, activation='sigmoid', name='output')(dropout)"
   ]
  },
  {
   "cell_type": "code",
   "execution_count": null,
   "metadata": {
    "id": "qS5XuBdC8eIK"
   },
   "outputs": [],
   "source": [
    "model = tf.keras.models.Model(input, [output], name='fire-detection-model')"
   ]
  },
  {
   "cell_type": "code",
   "execution_count": null,
   "metadata": {
    "colab": {
     "base_uri": "https://localhost:8080/"
    },
    "id": "_8uSUHeC88iB",
    "outputId": "54cd0819-f9f9-47ee-b76a-c0e70455b291"
   },
   "outputs": [
    {
     "name": "stdout",
     "output_type": "stream",
     "text": [
      "Model: \"fire-detection-model\"\n",
      "__________________________________________________________________________________________________\n",
      "Layer (type)                    Output Shape         Param #     Connected to                     \n",
      "==================================================================================================\n",
      "input_1 (InputLayer)            [(None, 224, 224, 3) 0                                            \n",
      "__________________________________________________________________________________________________\n",
      "conv_1_7x7_2 (Conv2D)           (None, 112, 112, 64) 9472        input_1[0][0]                    \n",
      "__________________________________________________________________________________________________\n",
      "max_pool_1_3x3_2 (MaxPooling2D) (None, 56, 56, 64)   0           conv_1_7x7_2[0][0]               \n",
      "__________________________________________________________________________________________________\n",
      "conv_2a_3x3_1 (Conv2D)          (None, 56, 56, 64)   4160        max_pool_1_3x3_2[0][0]           \n",
      "__________________________________________________________________________________________________\n",
      "conv_2b_3x3_1 (Conv2D)          (None, 56, 56, 192)  110784      conv_2a_3x3_1[0][0]              \n",
      "__________________________________________________________________________________________________\n",
      "max_pool_2_3x3_2 (MaxPooling2D) (None, 28, 28, 192)  0           conv_2b_3x3_1[0][0]              \n",
      "__________________________________________________________________________________________________\n",
      "conv2d_1 (Conv2D)               (None, 28, 28, 96)   18528       max_pool_2_3x3_2[0][0]           \n",
      "__________________________________________________________________________________________________\n",
      "conv2d_3 (Conv2D)               (None, 28, 28, 16)   3088        max_pool_2_3x3_2[0][0]           \n",
      "__________________________________________________________________________________________________\n",
      "max_pooling2d (MaxPooling2D)    (None, 28, 28, 192)  0           max_pool_2_3x3_2[0][0]           \n",
      "__________________________________________________________________________________________________\n",
      "conv2d (Conv2D)                 (None, 28, 28, 64)   12352       max_pool_2_3x3_2[0][0]           \n",
      "__________________________________________________________________________________________________\n",
      "conv2d_2 (Conv2D)               (None, 28, 28, 128)  110720      conv2d_1[0][0]                   \n",
      "__________________________________________________________________________________________________\n",
      "conv2d_4 (Conv2D)               (None, 28, 28, 32)   12832       conv2d_3[0][0]                   \n",
      "__________________________________________________________________________________________________\n",
      "conv2d_5 (Conv2D)               (None, 28, 28, 32)   6176        max_pooling2d[0][0]              \n",
      "__________________________________________________________________________________________________\n",
      "inception_3a (Concatenate)      (None, 28, 28, 256)  0           conv2d[0][0]                     \n",
      "                                                                 conv2d_2[0][0]                   \n",
      "                                                                 conv2d_4[0][0]                   \n",
      "                                                                 conv2d_5[0][0]                   \n",
      "__________________________________________________________________________________________________\n",
      "conv2d_7 (Conv2D)               (None, 28, 28, 128)  32896       inception_3a[0][0]               \n",
      "__________________________________________________________________________________________________\n",
      "conv2d_9 (Conv2D)               (None, 28, 28, 32)   8224        inception_3a[0][0]               \n",
      "__________________________________________________________________________________________________\n",
      "max_pooling2d_1 (MaxPooling2D)  (None, 28, 28, 256)  0           inception_3a[0][0]               \n",
      "__________________________________________________________________________________________________\n",
      "conv2d_6 (Conv2D)               (None, 28, 28, 128)  32896       inception_3a[0][0]               \n",
      "__________________________________________________________________________________________________\n",
      "conv2d_8 (Conv2D)               (None, 28, 28, 192)  221376      conv2d_7[0][0]                   \n",
      "__________________________________________________________________________________________________\n",
      "conv2d_10 (Conv2D)              (None, 28, 28, 96)   76896       conv2d_9[0][0]                   \n",
      "__________________________________________________________________________________________________\n",
      "conv2d_11 (Conv2D)              (None, 28, 28, 64)   16448       max_pooling2d_1[0][0]            \n",
      "__________________________________________________________________________________________________\n",
      "inception_3b (Concatenate)      (None, 28, 28, 480)  0           conv2d_6[0][0]                   \n",
      "                                                                 conv2d_8[0][0]                   \n",
      "                                                                 conv2d_10[0][0]                  \n",
      "                                                                 conv2d_11[0][0]                  \n",
      "__________________________________________________________________________________________________\n",
      "max_pool_3_3x3_2 (MaxPooling2D) (None, 14, 14, 480)  0           inception_3b[0][0]               \n",
      "__________________________________________________________________________________________________\n",
      "conv2d_13 (Conv2D)              (None, 14, 14, 96)   46176       max_pool_3_3x3_2[0][0]           \n",
      "__________________________________________________________________________________________________\n",
      "conv2d_15 (Conv2D)              (None, 14, 14, 16)   7696        max_pool_3_3x3_2[0][0]           \n",
      "__________________________________________________________________________________________________\n",
      "max_pooling2d_2 (MaxPooling2D)  (None, 14, 14, 480)  0           max_pool_3_3x3_2[0][0]           \n",
      "__________________________________________________________________________________________________\n",
      "conv2d_12 (Conv2D)              (None, 14, 14, 192)  92352       max_pool_3_3x3_2[0][0]           \n",
      "__________________________________________________________________________________________________\n",
      "conv2d_14 (Conv2D)              (None, 14, 14, 208)  179920      conv2d_13[0][0]                  \n",
      "__________________________________________________________________________________________________\n",
      "conv2d_16 (Conv2D)              (None, 14, 14, 48)   19248       conv2d_15[0][0]                  \n",
      "__________________________________________________________________________________________________\n",
      "conv2d_17 (Conv2D)              (None, 14, 14, 64)   30784       max_pooling2d_2[0][0]            \n",
      "__________________________________________________________________________________________________\n",
      "inception_4a (Concatenate)      (None, 14, 14, 512)  0           conv2d_12[0][0]                  \n",
      "                                                                 conv2d_14[0][0]                  \n",
      "                                                                 conv2d_16[0][0]                  \n",
      "                                                                 conv2d_17[0][0]                  \n",
      "__________________________________________________________________________________________________\n",
      "avg_pool_5_3x3_1 (GlobalAverage (None, 512)          0           inception_4a[0][0]               \n",
      "__________________________________________________________________________________________________\n",
      "dropout (Dropout)               (None, 512)          0           avg_pool_5_3x3_1[0][0]           \n",
      "__________________________________________________________________________________________________\n",
      "output (Dense)                  (None, 1)            513         dropout[0][0]                    \n",
      "==================================================================================================\n",
      "Total params: 1,053,537\n",
      "Trainable params: 1,053,537\n",
      "Non-trainable params: 0\n",
      "__________________________________________________________________________________________________\n"
     ]
    }
   ],
   "source": [
    "model.summary()"
   ]
  },
  {
   "cell_type": "markdown",
   "metadata": {
    "id": "JC6MlrUAKfkc"
   },
   "source": [
    "## Training"
   ]
  },
  {
   "cell_type": "code",
   "execution_count": null,
   "metadata": {
    "id": "UGRZvVHB-CjP"
   },
   "outputs": [],
   "source": [
    "learning_rate = 0.07\n",
    "\n",
    "def decay_func(epoch, steps=100):\n",
    "    initial_lrate = learning_rate\n",
    "    drop = 0.96\n",
    "    epochs_drop = 8\n",
    "    lrate = initial_lrate * math.pow(drop, math.floor((1+epoch)/epochs_drop))\n",
    "    return lrate\n",
    "\n",
    "opt = tf.keras.optimizers.SGD(learning_rate=learning_rate, momentum=0.9, nesterov=False)\n",
    "\n",
    "learningRateScheduler = tf.keras.callbacks.LearningRateScheduler(decay_func, verbose=1)\n",
    "\n",
    "precision = tf.keras.metrics.Precision()\n",
    "\n",
    "recall = tf.keras.metrics.Recall()"
   ]
  },
  {
   "cell_type": "code",
   "execution_count": null,
   "metadata": {
    "id": "8YPxjBgoRfs7"
   },
   "outputs": [],
   "source": [
    "model.compile(optimizer=opt, loss='binary_crossentropy', metrics=['accuracy', precision, recall])"
   ]
  },
  {
   "cell_type": "code",
   "execution_count": null,
   "metadata": {
    "colab": {
     "base_uri": "https://localhost:8080/"
    },
    "id": "x17ENUezKhg7",
    "outputId": "5e9b7de4-14ae-4802-a1ed-8ac3920938eb"
   },
   "outputs": [
    {
     "name": "stdout",
     "output_type": "stream",
     "text": [
      "\n",
      "Epoch 00001: LearningRateScheduler reducing learning rate to 0.07.\n",
      "Epoch 1/50\n",
      "76/76 [==============================] - 67s 879ms/step - loss: 0.7054 - accuracy: 0.5913 - precision: 0.6152 - recall: 0.6364 - val_loss: 0.8465 - val_accuracy: 0.1690 - val_precision: 0.0000e+00 - val_recall: 0.0000e+00\n",
      "\n",
      "Epoch 00002: LearningRateScheduler reducing learning rate to 0.07.\n",
      "Epoch 2/50\n",
      "76/76 [==============================] - 67s 880ms/step - loss: 0.6378 - accuracy: 0.6474 - precision: 0.6692 - recall: 0.6779 - val_loss: 0.4057 - val_accuracy: 0.8418 - val_precision: 0.9011 - val_recall: 0.9094\n",
      "\n",
      "Epoch 00003: LearningRateScheduler reducing learning rate to 0.07.\n",
      "Epoch 3/50\n",
      "76/76 [==============================] - 67s 884ms/step - loss: 0.5832 - accuracy: 0.6936 - precision: 0.7279 - recall: 0.6849 - val_loss: 0.3503 - val_accuracy: 0.8495 - val_precision: 0.8852 - val_recall: 0.9409\n",
      "\n",
      "Epoch 00004: LearningRateScheduler reducing learning rate to 0.07.\n",
      "Epoch 4/50\n",
      "76/76 [==============================] - 68s 891ms/step - loss: 0.5617 - accuracy: 0.7258 - precision: 0.7560 - recall: 0.7218 - val_loss: 0.5131 - val_accuracy: 0.7266 - val_precision: 0.9504 - val_recall: 0.7079\n",
      "\n",
      "Epoch 00005: LearningRateScheduler reducing learning rate to 0.07.\n",
      "Epoch 5/50\n",
      "76/76 [==============================] - 69s 905ms/step - loss: 0.5874 - accuracy: 0.7047 - precision: 0.7431 - recall: 0.6872 - val_loss: 0.4155 - val_accuracy: 0.8433 - val_precision: 0.8984 - val_recall: 0.9150\n",
      "\n",
      "Epoch 00006: LearningRateScheduler reducing learning rate to 0.07.\n",
      "Epoch 6/50\n",
      "76/76 [==============================] - 67s 887ms/step - loss: 0.5547 - accuracy: 0.7291 - precision: 0.7683 - recall: 0.7087 - val_loss: 0.4402 - val_accuracy: 0.7957 - val_precision: 0.9435 - val_recall: 0.8022\n",
      "\n",
      "Epoch 00007: LearningRateScheduler reducing learning rate to 0.07.\n",
      "Epoch 7/50\n",
      "76/76 [==============================] - 67s 884ms/step - loss: 0.5357 - accuracy: 0.7361 - precision: 0.7747 - recall: 0.7164 - val_loss: 0.3102 - val_accuracy: 0.8602 - val_precision: 0.9245 - val_recall: 0.9057\n",
      "\n",
      "Epoch 00008: LearningRateScheduler reducing learning rate to 0.06720000000000001.\n",
      "Epoch 8/50\n",
      "76/76 [==============================] - 67s 878ms/step - loss: 0.5200 - accuracy: 0.7567 - precision: 0.8015 - recall: 0.7264 - val_loss: 0.3038 - val_accuracy: 0.8725 - val_precision: 0.9164 - val_recall: 0.9316\n",
      "\n",
      "Epoch 00009: LearningRateScheduler reducing learning rate to 0.06720000000000001.\n",
      "Epoch 9/50\n",
      "76/76 [==============================] - 68s 889ms/step - loss: 0.4771 - accuracy: 0.7765 - precision: 0.8088 - recall: 0.7640 - val_loss: 0.2664 - val_accuracy: 0.9017 - val_precision: 0.9328 - val_recall: 0.9501\n",
      "\n",
      "Epoch 00010: LearningRateScheduler reducing learning rate to 0.06720000000000001.\n",
      "Epoch 10/50\n",
      "76/76 [==============================] - 68s 895ms/step - loss: 0.4952 - accuracy: 0.7592 - precision: 0.7834 - recall: 0.7617 - val_loss: 0.7727 - val_accuracy: 0.5100 - val_precision: 1.0000 - val_recall: 0.4104\n",
      "\n",
      "Epoch 00011: LearningRateScheduler reducing learning rate to 0.06720000000000001.\n",
      "Epoch 11/50\n",
      "76/76 [==============================] - 67s 888ms/step - loss: 0.4932 - accuracy: 0.7691 - precision: 0.8039 - recall: 0.7533 - val_loss: 0.2959 - val_accuracy: 0.8602 - val_precision: 0.9592 - val_recall: 0.8688\n",
      "\n",
      "Epoch 00012: LearningRateScheduler reducing learning rate to 0.06720000000000001.\n",
      "Epoch 12/50\n",
      "76/76 [==============================] - 67s 882ms/step - loss: 0.3999 - accuracy: 0.8132 - precision: 0.8381 - recall: 0.8078 - val_loss: 0.2251 - val_accuracy: 0.9140 - val_precision: 0.9482 - val_recall: 0.9482\n",
      "\n",
      "Epoch 00013: LearningRateScheduler reducing learning rate to 0.06720000000000001.\n",
      "Epoch 13/50\n",
      "76/76 [==============================] - 68s 896ms/step - loss: 0.3814 - accuracy: 0.8301 - precision: 0.8360 - recall: 0.8501 - val_loss: 0.3141 - val_accuracy: 0.8909 - val_precision: 0.9796 - val_recall: 0.8872\n",
      "\n",
      "Epoch 00014: LearningRateScheduler reducing learning rate to 0.06720000000000001.\n",
      "Epoch 14/50\n",
      "76/76 [==============================] - 69s 904ms/step - loss: 0.3846 - accuracy: 0.8239 - precision: 0.8346 - recall: 0.8378 - val_loss: 0.2189 - val_accuracy: 0.9232 - val_precision: 0.9694 - val_recall: 0.9372\n",
      "\n",
      "Epoch 00015: LearningRateScheduler reducing learning rate to 0.06720000000000001.\n",
      "Epoch 15/50\n",
      "76/76 [==============================] - 68s 896ms/step - loss: 0.4012 - accuracy: 0.8252 - precision: 0.8260 - recall: 0.8540 - val_loss: 0.6382 - val_accuracy: 0.6621 - val_precision: 0.9878 - val_recall: 0.6007\n",
      "\n",
      "Epoch 00016: LearningRateScheduler reducing learning rate to 0.064512.\n",
      "Epoch 16/50\n",
      "76/76 [==============================] - 66s 870ms/step - loss: 0.3645 - accuracy: 0.8449 - precision: 0.8662 - recall: 0.8409 - val_loss: 0.2130 - val_accuracy: 0.9201 - val_precision: 0.9766 - val_recall: 0.9261\n",
      "\n",
      "Epoch 00017: LearningRateScheduler reducing learning rate to 0.064512.\n",
      "Epoch 17/50\n",
      "76/76 [==============================] - 66s 865ms/step - loss: 0.3769 - accuracy: 0.8297 - precision: 0.8323 - recall: 0.8547 - val_loss: 0.2856 - val_accuracy: 0.9094 - val_precision: 0.9744 - val_recall: 0.9150\n",
      "\n",
      "Epoch 00018: LearningRateScheduler reducing learning rate to 0.064512.\n",
      "Epoch 18/50\n",
      "76/76 [==============================] - 67s 877ms/step - loss: 0.3655 - accuracy: 0.8474 - precision: 0.8497 - recall: 0.8693 - val_loss: 0.1967 - val_accuracy: 0.9339 - val_precision: 0.9680 - val_recall: 0.9519\n",
      "\n",
      "Epoch 00019: LearningRateScheduler reducing learning rate to 0.064512.\n",
      "Epoch 19/50\n",
      "76/76 [==============================] - 67s 878ms/step - loss: 0.2986 - accuracy: 0.8701 - precision: 0.8758 - recall: 0.8832 - val_loss: 0.1879 - val_accuracy: 0.9355 - val_precision: 0.9826 - val_recall: 0.9390\n",
      "\n",
      "Epoch 00020: LearningRateScheduler reducing learning rate to 0.064512.\n",
      "Epoch 20/50\n",
      "76/76 [==============================] - 67s 878ms/step - loss: 0.3279 - accuracy: 0.8693 - precision: 0.8694 - recall: 0.8901 - val_loss: 0.2158 - val_accuracy: 0.9201 - val_precision: 0.9880 - val_recall: 0.9150\n",
      "\n",
      "Epoch 00021: LearningRateScheduler reducing learning rate to 0.064512.\n",
      "Epoch 21/50\n",
      "76/76 [==============================] - 65s 860ms/step - loss: 0.2801 - accuracy: 0.8944 - precision: 0.8920 - recall: 0.9139 - val_loss: 0.1939 - val_accuracy: 0.9324 - val_precision: 0.9882 - val_recall: 0.9298\n",
      "\n",
      "Epoch 00022: LearningRateScheduler reducing learning rate to 0.064512.\n",
      "Epoch 22/50\n",
      "76/76 [==============================] - 66s 872ms/step - loss: 0.2889 - accuracy: 0.8899 - precision: 0.8917 - recall: 0.9047 - val_loss: 0.1378 - val_accuracy: 0.9524 - val_precision: 0.9670 - val_recall: 0.9760\n",
      "\n",
      "Epoch 00023: LearningRateScheduler reducing learning rate to 0.064512.\n",
      "Epoch 23/50\n",
      "76/76 [==============================] - 67s 879ms/step - loss: 0.2936 - accuracy: 0.8779 - precision: 0.8770 - recall: 0.8985 - val_loss: 0.2046 - val_accuracy: 0.9217 - val_precision: 0.9920 - val_recall: 0.9131\n",
      "\n",
      "Epoch 00024: LearningRateScheduler reducing learning rate to 0.06193152.\n",
      "Epoch 24/50\n",
      "76/76 [==============================] - 67s 883ms/step - loss: 0.2687 - accuracy: 0.8920 - precision: 0.8951 - recall: 0.9047 - val_loss: 0.1669 - val_accuracy: 0.9432 - val_precision: 0.9865 - val_recall: 0.9445\n",
      "\n",
      "Epoch 00025: LearningRateScheduler reducing learning rate to 0.06193152.\n",
      "Epoch 25/50\n",
      "76/76 [==============================] - 67s 879ms/step - loss: 0.2621 - accuracy: 0.9064 - precision: 0.9081 - recall: 0.9185 - val_loss: 0.2316 - val_accuracy: 0.9293 - val_precision: 0.9920 - val_recall: 0.9224\n",
      "\n",
      "Epoch 00026: LearningRateScheduler reducing learning rate to 0.06193152.\n",
      "Epoch 26/50\n",
      "76/76 [==============================] - 66s 867ms/step - loss: 0.2658 - accuracy: 0.8924 - precision: 0.8927 - recall: 0.9085 - val_loss: 0.1549 - val_accuracy: 0.9355 - val_precision: 0.9734 - val_recall: 0.9482\n",
      "\n",
      "Epoch 00027: LearningRateScheduler reducing learning rate to 0.06193152.\n",
      "Epoch 27/50\n",
      "76/76 [==============================] - 67s 885ms/step - loss: 0.2438 - accuracy: 0.9043 - precision: 0.9022 - recall: 0.9216 - val_loss: 0.1625 - val_accuracy: 0.9355 - val_precision: 0.9845 - val_recall: 0.9372\n",
      "\n",
      "Epoch 00028: LearningRateScheduler reducing learning rate to 0.06193152.\n",
      "Epoch 28/50\n",
      "76/76 [==============================] - 68s 898ms/step - loss: 0.2304 - accuracy: 0.9118 - precision: 0.9146 - recall: 0.9216 - val_loss: 0.1144 - val_accuracy: 0.9601 - val_precision: 0.9831 - val_recall: 0.9686\n",
      "\n",
      "Epoch 00029: LearningRateScheduler reducing learning rate to 0.06193152.\n",
      "Epoch 29/50\n",
      "76/76 [==============================] - 69s 903ms/step - loss: 0.2369 - accuracy: 0.9076 - precision: 0.9089 - recall: 0.9201 - val_loss: 0.1624 - val_accuracy: 0.9493 - val_precision: 0.9885 - val_recall: 0.9501\n",
      "\n",
      "Epoch 00030: LearningRateScheduler reducing learning rate to 0.06193152.\n",
      "Epoch 30/50\n",
      "76/76 [==============================] - 69s 902ms/step - loss: 0.2350 - accuracy: 0.9080 - precision: 0.9040 - recall: 0.9270 - val_loss: 0.1545 - val_accuracy: 0.9601 - val_precision: 0.9905 - val_recall: 0.9612\n",
      "\n",
      "Epoch 00031: LearningRateScheduler reducing learning rate to 0.06193152.\n",
      "Epoch 31/50\n",
      "76/76 [==============================] - 67s 879ms/step - loss: 0.2271 - accuracy: 0.9171 - precision: 0.9186 - recall: 0.9277 - val_loss: 0.2289 - val_accuracy: 0.9186 - val_precision: 0.9959 - val_recall: 0.9057\n",
      "\n",
      "Epoch 00032: LearningRateScheduler reducing learning rate to 0.0594542592.\n",
      "Epoch 32/50\n",
      "76/76 [==============================] - 67s 877ms/step - loss: 0.2207 - accuracy: 0.9167 - precision: 0.9185 - recall: 0.9270 - val_loss: 0.1634 - val_accuracy: 0.9508 - val_precision: 0.9942 - val_recall: 0.9464\n",
      "\n",
      "Epoch 00033: LearningRateScheduler reducing learning rate to 0.0594542592.\n",
      "Epoch 33/50\n",
      "76/76 [==============================] - 66s 862ms/step - loss: 0.2036 - accuracy: 0.9229 - precision: 0.9233 - recall: 0.9339 - val_loss: 0.1273 - val_accuracy: 0.9693 - val_precision: 0.9833 - val_recall: 0.9797\n",
      "\n",
      "Epoch 00034: LearningRateScheduler reducing learning rate to 0.0594542592.\n",
      "Epoch 34/50\n",
      "76/76 [==============================] - 65s 860ms/step - loss: 0.2390 - accuracy: 0.9134 - precision: 0.9123 - recall: 0.9277 - val_loss: 0.1450 - val_accuracy: 0.9677 - val_precision: 0.9815 - val_recall: 0.9797\n",
      "\n",
      "Epoch 00035: LearningRateScheduler reducing learning rate to 0.0594542592.\n",
      "Epoch 35/50\n",
      "76/76 [==============================] - 66s 864ms/step - loss: 0.2160 - accuracy: 0.9105 - precision: 0.9131 - recall: 0.9208 - val_loss: 0.1278 - val_accuracy: 0.9508 - val_precision: 0.9739 - val_recall: 0.9667\n",
      "\n",
      "Epoch 00036: LearningRateScheduler reducing learning rate to 0.0594542592.\n",
      "Epoch 36/50\n",
      "76/76 [==============================] - 66s 865ms/step - loss: 0.2078 - accuracy: 0.9196 - precision: 0.9189 - recall: 0.9324 - val_loss: 0.0957 - val_accuracy: 0.9662 - val_precision: 0.9727 - val_recall: 0.9871\n",
      "\n",
      "Epoch 00037: LearningRateScheduler reducing learning rate to 0.0594542592.\n",
      "Epoch 37/50\n",
      "76/76 [==============================] - 66s 864ms/step - loss: 0.2176 - accuracy: 0.9151 - precision: 0.9157 - recall: 0.9270 - val_loss: 0.1075 - val_accuracy: 0.9631 - val_precision: 0.9641 - val_recall: 0.9926\n",
      "\n",
      "Epoch 00038: LearningRateScheduler reducing learning rate to 0.0594542592.\n",
      "Epoch 38/50\n",
      "76/76 [==============================] - 66s 873ms/step - loss: 0.2082 - accuracy: 0.9221 - precision: 0.9168 - recall: 0.9400 - val_loss: 0.1308 - val_accuracy: 0.9539 - val_precision: 0.9961 - val_recall: 0.9482\n",
      "\n",
      "Epoch 00039: LearningRateScheduler reducing learning rate to 0.0594542592.\n",
      "Epoch 39/50\n",
      "76/76 [==============================] - 66s 867ms/step - loss: 0.2171 - accuracy: 0.9216 - precision: 0.9180 - recall: 0.9377 - val_loss: 0.1042 - val_accuracy: 0.9677 - val_precision: 0.9762 - val_recall: 0.9852\n",
      "\n",
      "Epoch 00040: LearningRateScheduler reducing learning rate to 0.057076088831999994.\n",
      "Epoch 40/50\n",
      "76/76 [==============================] - 66s 862ms/step - loss: 0.1855 - accuracy: 0.9282 - precision: 0.9272 - recall: 0.9400 - val_loss: 0.0894 - val_accuracy: 0.9693 - val_precision: 0.9924 - val_recall: 0.9704\n",
      "\n",
      "Epoch 00041: LearningRateScheduler reducing learning rate to 0.057076088831999994.\n",
      "Epoch 41/50\n",
      "76/76 [==============================] - 66s 866ms/step - loss: 0.2064 - accuracy: 0.9245 - precision: 0.9248 - recall: 0.9354 - val_loss: 0.1270 - val_accuracy: 0.9739 - val_precision: 0.9925 - val_recall: 0.9760\n",
      "\n",
      "Epoch 00042: LearningRateScheduler reducing learning rate to 0.057076088831999994.\n",
      "Epoch 42/50\n",
      "76/76 [==============================] - 65s 857ms/step - loss: 0.1943 - accuracy: 0.9245 - precision: 0.9235 - recall: 0.9370 - val_loss: 0.0853 - val_accuracy: 0.9724 - val_precision: 0.9834 - val_recall: 0.9834\n",
      "\n",
      "Epoch 00043: LearningRateScheduler reducing learning rate to 0.057076088831999994.\n",
      "Epoch 43/50\n",
      "76/76 [==============================] - 65s 855ms/step - loss: 0.1913 - accuracy: 0.9303 - precision: 0.9321 - recall: 0.9385 - val_loss: 0.1091 - val_accuracy: 0.9601 - val_precision: 0.9942 - val_recall: 0.9575\n",
      "\n",
      "Epoch 00044: LearningRateScheduler reducing learning rate to 0.057076088831999994.\n",
      "Epoch 44/50\n",
      "76/76 [==============================] - 65s 854ms/step - loss: 0.1848 - accuracy: 0.9291 - precision: 0.9273 - recall: 0.9416 - val_loss: 0.1455 - val_accuracy: 0.9662 - val_precision: 0.9905 - val_recall: 0.9686\n",
      "\n",
      "Epoch 00045: LearningRateScheduler reducing learning rate to 0.057076088831999994.\n",
      "Epoch 45/50\n",
      "76/76 [==============================] - 65s 858ms/step - loss: 0.1927 - accuracy: 0.9258 - precision: 0.9256 - recall: 0.9370 - val_loss: 0.0884 - val_accuracy: 0.9662 - val_precision: 0.9779 - val_recall: 0.9815\n",
      "\n",
      "Epoch 00046: LearningRateScheduler reducing learning rate to 0.057076088831999994.\n",
      "Epoch 46/50\n",
      "76/76 [==============================] - 66s 863ms/step - loss: 0.1729 - accuracy: 0.9336 - precision: 0.9305 - recall: 0.9470 - val_loss: 0.1171 - val_accuracy: 0.9754 - val_precision: 0.9962 - val_recall: 0.9741\n",
      "\n",
      "Epoch 00047: LearningRateScheduler reducing learning rate to 0.057076088831999994.\n",
      "Epoch 47/50\n",
      "76/76 [==============================] - 66s 865ms/step - loss: 0.1636 - accuracy: 0.9398 - precision: 0.9398 - recall: 0.9485 - val_loss: 0.0843 - val_accuracy: 0.9816 - val_precision: 0.9926 - val_recall: 0.9852\n",
      "\n",
      "Epoch 00048: LearningRateScheduler reducing learning rate to 0.05479304527872.\n",
      "Epoch 48/50\n",
      "76/76 [==============================] - 66s 865ms/step - loss: 0.1651 - accuracy: 0.9423 - precision: 0.9375 - recall: 0.9562 - val_loss: 0.0681 - val_accuracy: 0.9816 - val_precision: 0.9962 - val_recall: 0.9815\n",
      "\n",
      "Epoch 00049: LearningRateScheduler reducing learning rate to 0.05479304527872.\n",
      "Epoch 49/50\n",
      "76/76 [==============================] - 65s 861ms/step - loss: 0.1515 - accuracy: 0.9443 - precision: 0.9444 - recall: 0.9523 - val_loss: 0.0811 - val_accuracy: 0.9739 - val_precision: 0.9781 - val_recall: 0.9908\n",
      "\n",
      "Epoch 00050: LearningRateScheduler reducing learning rate to 0.05479304527872.\n",
      "Epoch 50/50\n",
      "76/76 [==============================] - 65s 858ms/step - loss: 0.1795 - accuracy: 0.9262 - precision: 0.9276 - recall: 0.9354 - val_loss: 0.0859 - val_accuracy: 0.9647 - val_precision: 0.9642 - val_recall: 0.9945\n"
     ]
    }
   ],
   "source": [
    "history = model.fit(x=training_dataset, validation_data=test_dataset, epochs=50, callbacks=[learningRateScheduler])"
   ]
  },
  {
   "cell_type": "code",
   "execution_count": null,
   "metadata": {
    "colab": {
     "base_uri": "https://localhost:8080/",
     "height": 295
    },
    "id": "Rz7UokHvJl9R",
    "outputId": "7bbc95cd-8e53-46ce-bfb3-41508bf66c0f"
   },
   "outputs": [
    {
     "data": {
      "image/png": "[encoded data removed]",
      "text/plain": [
       "<Figure size 432x288 with 1 Axes>"
      ]
     },
     "metadata": {
      "tags": []
     },
     "output_type": "display_data"
    }
   ],
   "source": [
    "plt.plot(history.history['loss'])\n",
    "plt.plot(history.history['val_loss'])\n",
    "plt.title('Model Loss')\n",
    "plt.ylabel('Loss')\n",
    "plt.xlabel('Epochs')\n",
    "plt.legend(['Train', 'Test'], loc='upper left')\n",
    "plt.show()"
   ]
  },
  {
   "cell_type": "code",
   "execution_count": null,
   "metadata": {
    "colab": {
     "base_uri": "https://localhost:8080/",
     "height": 295
    },
    "id": "79bK9PQQT90B",
    "outputId": "198bf9ee-d330-411a-ef92-8bb706f4b3b0"
   },
   "outputs": [
    {
     "data": {
      "image/png": "[encoded data removed]",
      "text/plain": [
       "<Figure size 432x288 with 1 Axes>"
      ]
     },
     "metadata": {
      "tags": []
     },
     "output_type": "display_data"
    }
   ],
   "source": [
    "plt.plot(history.history['accuracy'])\n",
    "plt.plot(history.history['val_accuracy'])\n",
    "plt.title('Model Accuracy')\n",
    "plt.ylabel('Accuracy')\n",
    "plt.xlabel('Epochs')\n",
    "plt.legend(['Train', 'Test'], loc='upper left')\n",
    "plt.show()"
   ]
  },
  {
   "cell_type": "code",
   "execution_count": null,
   "metadata": {
    "colab": {
     "base_uri": "https://localhost:8080/",
     "height": 295
    },
    "id": "-hD55pFpInDi",
    "outputId": "2053dc81-b830-4491-90a4-e231c4d27ab0"
   },
   "outputs": [
    {
     "data": {
      "image/png": "[encoded data removed]",
      "text/plain": [
       "<Figure size 432x288 with 1 Axes>"
      ]
     },
     "metadata": {
      "tags": []
     },
     "output_type": "display_data"
    }
   ],
   "source": [
    "plt.plot(history.history['precision'])\n",
    "plt.plot(history.history['val_precision'])\n",
    "plt.title('Model Precision')\n",
    "plt.ylabel('Precision')\n",
    "plt.xlabel('Epochs')\n",
    "plt.legend(['Train', 'Test'], loc='upper left')\n",
    "plt.show()"
   ]
  },
  {
   "cell_type": "code",
   "execution_count": null,
   "metadata": {
    "colab": {
     "base_uri": "https://localhost:8080/",
     "height": 295
    },
    "id": "y3b9spSHIn-L",
    "outputId": "adedea3d-218d-42bf-9c10-dc63bf0d27cb"
   },
   "outputs": [
    {
     "data": {
      "image/png": "[encoded data removed]",
      "text/plain": [
       "<Figure size 432x288 with 1 Axes>"
      ]
     },
     "metadata": {
      "tags": []
     },
     "output_type": "display_data"
    }
   ],
   "source": [
    "plt.plot(history.history['recall'])\n",
    "plt.plot(history.history['val_recall'])\n",
    "plt.title('Model Recall')\n",
    "plt.ylabel('Recall')\n",
    "plt.xlabel('Epochs')\n",
    "plt.legend(['Train', 'Test'], loc='upper left')\n",
    "plt.show()"
   ]
  },
  {
   "cell_type": "code",
   "execution_count": null,
   "metadata": {
    "colab": {
     "base_uri": "https://localhost:8080/"
    },
    "id": "rJr4omvEpVxp",
    "outputId": "ea5e3ba1-b69d-4184-e3f7-90e8833ed8ae"
   },
   "outputs": [
    {
     "name": "stdout",
     "output_type": "stream",
     "text": [
      "WARNING:tensorflow:From /usr/local/lib/python3.6/dist-packages/tensorflow/python/training/tracking/tracking.py:111: Model.state_updates (from tensorflow.python.keras.engine.training) is deprecated and will be removed in a future version.\n",
      "Instructions for updating:\n",
      "This property should not be used in TensorFlow 2.0, as updates are applied automatically.\n",
      "WARNING:tensorflow:From /usr/local/lib/python3.6/dist-packages/tensorflow/python/training/tracking/tracking.py:111: Layer.updates (from tensorflow.python.keras.engine.base_layer) is deprecated and will be removed in a future version.\n",
      "Instructions for updating:\n",
      "This property should not be used in TensorFlow 2.0, as updates are applied automatically.\n",
      "INFO:tensorflow:Assets written to: fire-detection/assets\n"
     ]
    }
   ],
   "source": [
    "model.save(\"fire-detection\")"
   ]
  },
  {
   "cell_type": "code",
   "execution_count": null,
   "metadata": {
    "id": "OANEUxk4p0sI"
   },
   "outputs": [],
   "source": [
    "model.save_weights(\"saved-weights\")"
   ]
  },
  {
   "cell_type": "markdown",
   "metadata": {
    "id": "MDT2pmvWWjfw"
   },
   "source": [
    "## Statistics"
   ]
  },
  {
   "cell_type": "code",
   "execution_count": null,
   "metadata": {
    "id": "9INDlgpBwerv"
   },
   "outputs": [],
   "source": [
    "import statistics"
   ]
  },
  {
   "cell_type": "code",
   "execution_count": null,
   "metadata": {
    "id": "6r271HbcucMQ"
   },
   "outputs": [],
   "source": [
    "mean_loss = statistics.mean(history.history['val_loss'])\n",
    "variance_loss = statistics.variance(history.history['val_loss'])\n",
    "mean_accuracy = statistics.mean(history.history['val_accuracy'])\n",
    "variance_accuracy = statistics.variance(history.history['val_accuracy'])\n",
    "mean_precision = statistics.mean(history.history['val_precision'])\n",
    "variance_precision = statistics.variance(history.history['val_precision'])\n",
    "mean_recall = statistics.mean(history.history['val_recall'])\n",
    "variance_recall = statistics.variance(history.history['val_recall'])"
   ]
  },
  {
   "cell_type": "code",
   "execution_count": null,
   "metadata": {
    "colab": {
     "base_uri": "https://localhost:8080/"
    },
    "id": "-dDh-NIQwrNL",
    "outputId": "e0c7a464-71ee-4497-b025-dffbfca74b20"
   },
   "outputs": [
    {
     "name": "stdout",
     "output_type": "stream",
     "text": [
      "Loss : Mean = 0.22821727856993676, Variance = 0.02882151264889248\n",
      "Accuracy : Mean = 0.8990476152300835, Variance = 0.01852390821578078\n",
      "Precision : Mean = 0.9525615060329438, Variance = 0.01963160885040237\n",
      "Recall : Mean = 0.9053604429960251, Variance = 0.027305761976885175\n"
     ]
    }
   ],
   "source": [
    "print('Loss : Mean = {}, Variance = {}'.format(mean_loss, variance_loss))\n",
    "print('Accuracy : Mean = {}, Variance = {}'.format(mean_accuracy, variance_accuracy))\n",
    "print('Precision : Mean = {}, Variance = {}'.format(mean_precision, variance_precision))\n",
    "print('Recall : Mean = {}, Variance = {}'.format(mean_recall, variance_recall))"
   ]
  },
  {
   "cell_type": "markdown",
   "metadata": {
    "id": "bURwNbFFWqaL"
   },
   "source": [
    "## Validation"
   ]
  },
  {
   "cell_type": "code",
   "execution_count": null,
   "metadata": {
    "colab": {
     "base_uri": "https://localhost:8080/"
    },
    "id": "WrczAEDm6yab",
    "outputId": "8cee8ac5-2b59-434c-e83a-c6cc4f69425b"
   },
   "outputs": [
    {
     "name": "stdout",
     "output_type": "stream",
     "text": [
      "21/21 [==============================] - 13s 597ms/step - loss: 0.0827 - accuracy: 0.9662 - precision: 0.9659 - recall: 0.9945\n"
     ]
    },
    {
     "data": {
      "text/plain": [
       "[0.08265287429094315,\n",
       " 0.9662058353424072,\n",
       " 0.9658886790275574,\n",
       " 0.9944547414779663]"
      ]
     },
     "execution_count": 39,
     "metadata": {
      "tags": []
     },
     "output_type": "execute_result"
    }
   ],
   "source": [
    "model.evaluate(test_dataset)"
   ]
  }
 ],
 "metadata": {
  "accelerator": "GPU",
  "colab": {
   "collapsed_sections": [
    "1I4QmCeLt1fh",
    "xmCOf47dtrRN",
    "pz2F6SQ_t563",
    "JC6MlrUAKfkc",
    "MDT2pmvWWjfw",
    "bURwNbFFWqaL"
   ],
   "name": "AI Project CO 206 209.ipynb",
   "provenance": []
  },
  "kernelspec": {
   "display_name": "Python 3",
   "language": "python",
   "name": "python3"
  },
  "language_info": {
   "codemirror_mode": {
    "name": "ipython",
    "version": 3
   },
   "file_extension": ".py",
   "mimetype": "text/x-python",
   "name": "python",
   "nbconvert_exporter": "python",
   "pygments_lexer": "ipython3",
   "version": "3.8.3"
  }
 },
 "nbformat": 4,
 "nbformat_minor": 1
}
